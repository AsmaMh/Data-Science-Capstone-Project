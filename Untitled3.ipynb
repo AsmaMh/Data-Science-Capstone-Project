{
 "cells": [
  {
   "cell_type": "markdown",
   "metadata": {},
   "source": [
    "# Introduction"
   ]
  },
  {
   "cell_type": "markdown",
   "metadata": {},
   "source": [
    "\n",
    "1.There is a huge impact on the society due to traffic accidents where there is a great costs of fatalities and injuries. In recent years there is a increase in the researchers attention to determine the significantly affect that severity of the drivers injuries which is caused due to the road accidents. Accurate and comprehensive accident records are the basis of accident analysis. The effective use of accident records depends on some factors like the accuracy of the data record retention and data analysis. There are many approaches applied to the scenario to study the problem. \n",
    "\n",
    "2.A recent study illustrated that the residential and shopping sites are more hazardous than village areas as might have been predicted. The frequencies of the casualties were higher near the zones of residence possibly because of higher exposure .\n",
    "\n"
   ]
  },
  {
   "cell_type": "markdown",
   "metadata": {},
   "source": [
    "# Business Understanding"
   ]
  },
  {
   "cell_type": "markdown",
   "metadata": {},
   "source": [
    "According to Corrigan[1],despite collecting large quantities of traffic data, transportation departments of all levels are unable to use such data to good effect. Founded in 2015,a start-up called ODN could predict when and where accidents are most likely to happen. Officials could use such information to directly safety efforts all the stretches of road where  the impacts could be the biggest. In the context of this research, some of the developed countries like US,UK governments could use the information to enhance the laws to build safer roads for the future. In this project we are dealing with the all the possible ways to reach the destination by overcoming car accidental  severity with the different critical  traffic conditions. On the way to journey, predicting car accident severity improves the traffic safety measures and implements the traffic rules accordingly by governments better severity."
   ]
  }
 ],
 "metadata": {
  "kernelspec": {
   "display_name": "Python 3",
   "language": "python",
   "name": "python3"
  },
  "language_info": {
   "codemirror_mode": {
    "name": "ipython",
    "version": 3
   },
   "file_extension": ".py",
   "mimetype": "text/x-python",
   "name": "python",
   "nbconvert_exporter": "python",
   "pygments_lexer": "ipython3",
   "version": "3.7.6"
  }
 },
 "nbformat": 4,
 "nbformat_minor": 4
}
