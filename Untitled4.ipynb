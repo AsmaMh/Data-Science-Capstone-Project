{
 "cells": [
  {
   "cell_type": "markdown",
   "metadata": {},
   "source": [
    "# Data"
   ]
  },
  {
   "cell_type": "markdown",
   "metadata": {},
   "source": [
    "\n",
    "1. Accidents have become very common these days. Nearly 1.25 million people die in road crashes each year xon average,3287 deaths a year. Moreover 20-50 million  people are injured or disabled annually. Road traffic crashes rank as the 9th leading cause of death and accounts for 2.2% of all deaths globally. In this context, machine learning techniques and neural network techniques has been an asset.\n",
    "2. For the current project I have used from a open source from google data search engine data ( data.govt.uk).Find open data.\n",
    "The data details are as follows published by: Leeds City council Last Updated :22 July 2020: not added license: Open Government License.\n",
    "3. URL : https://datasetsearch.research.google.com/searchquery=car%20accidents&docid=lCQaCKBW2PO9odk6AAAAAA%3D%3\n",
    "4. Format of the data set is CSV File."
   ]
  },
  {
   "cell_type": "code",
   "execution_count": null,
   "metadata": {},
   "outputs": [],
   "source": []
  }
 ],
 "metadata": {
  "kernelspec": {
   "display_name": "Python 3",
   "language": "python",
   "name": "python3"
  },
  "language_info": {
   "codemirror_mode": {
    "name": "ipython",
    "version": 3
   },
   "file_extension": ".py",
   "mimetype": "text/x-python",
   "name": "python",
   "nbconvert_exporter": "python",
   "pygments_lexer": "ipython3",
   "version": "3.7.6"
  }
 },
 "nbformat": 4,
 "nbformat_minor": 4
}
